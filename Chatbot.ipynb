{
 "cells": [
  {
   "cell_type": "markdown",
   "metadata": {},
   "source": [
    "# Implementation Of ChatBot Using NLP "
   ]
  },
  {
   "cell_type": "markdown",
   "metadata": {},
   "source": [
    "!pip install numpy scikit-learn nltk ------------> installing library"
   ]
  },
  {
   "cell_type": "code",
   "execution_count": null,
   "metadata": {},
   "outputs": [],
   "source": [
    "# Importing libraries\n",
    "import random\n",
    "import numpy as np\n",
    "import nltk\n",
    "from nltk.stem import WordNetLemmatizer\n",
    "from sklearn.feature_extraction.text import TfidfVectorizer\n",
    "from sklearn.linear_model import LogisticRegression\n",
    "from sklearn.svm import SVC\n",
    "from sklearn.pipeline import Pipeline\n",
    "from sklearn.model_selection import train_test_split  # <-- Add this line\n",
    "from sklearn.metrics import classification_report, accuracy_score\n"
   ]
  },
  {
   "cell_type": "code",
   "execution_count": null,
   "metadata": {},
   "outputs": [],
   "source": [
    "nltk.download('punkt_tab')\n",
    "nltk.download('wordnet')"
   ]
  },
  {
   "cell_type": "code",
   "execution_count": null,
   "metadata": {},
   "outputs": [],
   "source": [
    "# Initialize lemmatizer\n",
    "lemmatizer = WordNetLemmatizer()"
   ]
  },
  {
   "cell_type": "markdown",
   "metadata": {},
   "source": [
    "#  Data Preparation"
   ]
  },
  {
   "cell_type": "code",
   "execution_count": null,
   "metadata": {},
   "outputs": [],
   "source": [
    "intents = [\n",
    "    {\n",
    "        \"tag\": \"greeting\",\n",
    "        \"patterns\": [\"Hi\", \"Hello\", \"Hey\", \"Howdy\", \"What's up\", \"Greetings\", \"Good day\", \"Good morning\", \"Good afternoon\", \"Good evening\"],\n",
    "        \"responses\": [\"Hi there!\", \"Hello!\", \"Hey!\", \"Howdy!\", \"I'm fine, thank you. How can I help you?\", \"Nothing much. How about you?\", \"Hello! How can I assist you today?\", \"Hey! What's on your mind?\"]\n",
    "    },\n",
    "    {\n",
    "        \"tag\": \"goodbye\",\n",
    "        \"patterns\": [\"Bye\", \"See you later\", \"Goodbye\", \"Take care\", \"Catch you later\", \"I'm leaving\", \"Talk to you soon\", \"See you\", \"Have a good day\"],\n",
    "        \"responses\": [\"Goodbye!\", \"See you later!\", \"Take care!\", \"Have a great day!\", \"Catch you later!\", \"Bye! Looking forward to our next chat!\", \"Goodbye! Stay safe!\"]\n",
    "    },\n",
    "    {\n",
    "        \"tag\": \"thanks\",\n",
    "        \"patterns\": [\"Thank you\", \"Thanks\", \"Thanks a lot\", \"I appreciate it\", \"You're the best\", \"Much appreciated\", \"Thanks for your help\", \"Thanks for the assistance\"],\n",
    "        \"responses\": [\"You're welcome!\", \"No problem!\", \"Glad I could help!\", \"Happy to assist you!\", \"Anytime!\", \"You're welcome! If you need more help, just ask!\", \"No worries!\"]\n",
    "    },\n",
    "    {\n",
    "        \"tag\": \"about\",\n",
    "        \"patterns\": [\"What can you do\", \"Who are you\", \"What are you\", \"What's your purpose\", \"What is your role\", \"Tell me about yourself\", \"What services do you offer\"],\n",
    "        \"responses\": [\"I am a chatbot designed to assist you with various tasks.\", \"My purpose is to help you by answering questions and providing information.\", \"I can chat with you, answer questions, and help you with whatever you need.\", \"I'm here to make your life easier by providing quick and helpful answers.\"]\n",
    "    },\n",
    "    {\n",
    "        \"tag\": \"help\",\n",
    "        \"patterns\": [\"Help\", \"I need help\", \"Can you help me\", \"What should I do\", \"I need assistance\", \"Can you assist me\", \"I need some guidance\", \"I'm stuck, can you help?\"],\n",
    "        \"responses\": [\"Sure, what do you need help with?\", \"I'm here to help. What's the problem?\", \"How can I assist you?\", \"Feel free to ask for help. I'm here for you!\", \"I'd be glad to help you. What's on your mind?\"]\n",
    "    },\n",
    "    {\n",
    "        \"tag\": \"age\",\n",
    "        \"patterns\": [\"How old are you\", \"What's your age\", \"When were you created\", \"Are you old or young\", \"Do you have an age\"],\n",
    "        \"responses\": [\"I don't have an age. I'm a chatbot.\", \"I was just born in the digital world.\", \"Age is just a number for me.\", \"I exist beyond time, so no age for me!\", \"I'm as old as the code that runs me.\"]\n",
    "    },\n",
    "    {\n",
    "        \"tag\": \"weather\",\n",
    "        \"patterns\": [\"What's the weather like\", \"How's the weather today\", \"Can you check the weather\", \"Tell me the weather forecast\", \"Is it sunny today\"],\n",
    "        \"responses\": [\"I'm sorry, I cannot provide real-time weather information.\", \"You can check the weather on a weather app or website.\", \"I can't check the weather, but try using a weather app.\", \"Sorry, I don't have weather updates. Check online for accurate info.\"]\n",
    "    },\n",
    "    {\n",
    "        \"tag\": \"budget\",\n",
    "        \"patterns\": [\"How can I make a budget\", \"What's a good budgeting strategy\", \"How do I create a budget\", \"Tips for managing finances\", \"Help me with budgeting\"],\n",
    "        \"responses\": [\"To make a budget, track your income and expenses. Allocate for essentials, savings, and leisure.\", \"Start by listing your income and expenses, then categorize them to prioritize your spending.\", \"A good strategy is to follow the 50/30/20 rule: 50% needs, 30% wants, and 20% savings.\", \"Begin by tracking all expenses, then set realistic limits for each category.\"]\n",
    "    },\n",
    "    {\n",
    "        \"tag\": \"credit_score\",\n",
    "        \"patterns\": [\"What is a credit score\", \"How do I check my credit score\", \"How can I improve my credit score\", \"Why is credit score important\", \"Explain credit scores\"],\n",
    "        \"responses\": [\"A credit score represents your creditworthiness based on your credit history.\", \"To check your credit score, use authorized credit bureaus or financial apps.\", \"Paying bills on time and reducing debt can improve your credit score.\", \"A high credit score increases your chances of loan approvals and better interest rates.\"]\n",
    "    },\n",
    "    {\n",
    "        \"tag\": \"developer\",\n",
    "        \"patterns\": [\"Who is your developer\", \"Who created you\", \"Who made you\", \"Who built this chatbot\", \"Who programmed you\"],\n",
    "        \"responses\": [\"My developer is Suraj Sharma.\", \"I was created by Suraj Sharma.\", \"Suraj Sharma built me.\", \"I was programmed by Suraj Sharma.\"]\n",
    "    },\n",
    "    {\n",
    "        \"tag\": \"play_music\",\n",
    "        \"patterns\": [\"Hey, can you play a song for me\", \"Please play a song\", \"Play music\", \"Can you play some music\", \"I want to listen to music\"],\n",
    "        \"responses\": [\"Sure! Which song would you like to hear?\", \"Yes! Let me know your favorite song.\", \"I'd love to! Tell me the song name.\", \"Which track are you in the mood for?\", \"I can play music! What's your favorite genre?\"]\n",
    "    },\n",
    "    {\n",
    "        \"tag\": \"jokes\",\n",
    "        \"patterns\": [\"Tell me a joke\", \"Make me laugh\", \"Do you know any jokes\", \"Cheer me up with a joke\", \"Say something funny\"],\n",
    "        \"responses\": [\"Why did the computer break up with the internet? It felt disconnected!\", \"I would tell you a joke about an elevator, but it's an uplifting experience!\", \"Why did the smartphone need glasses? It lost its contacts!\", \"I told my computer I needed a break, and now it won't stop sending me Kit Kats!\"]\n",
    "    },\n",
    "    {\n",
    "        \"tag\": \"time\",\n",
    "        \"patterns\": [\"What's the time\", \"Can you tell me the current time\", \"What time is it now\", \"Do you know the time\", \"Tell me the time\"],\n",
    "        \"responses\": [\"I'm not equipped to provide the current time, but you can check your device!\", \"I don't have a clock, but your phone does!\", \"Sorry, I can't tell the time. Maybe check your watch?\", \"I can't see a clock, but your device should have the answer.\"]\n",
    "    },\n",
    "    {\n",
    "        \"tag\": \"news\",\n",
    "        \"patterns\": [\"What's the latest news\", \"Any news updates\", \"Tell me the news\", \"What's happening around the world\", \"Give me some news\"],\n",
    "        \"responses\": [\"I can't fetch live news, but you can check reliable news websites.\", \"I'm not connected to news services, but I can chat with you!\", \"I don't have live news, but feel free to discuss any topic with me.\"]\n",
    "    }\n",
    "]\n"
   ]
  },
  {
   "cell_type": "code",
   "execution_count": null,
   "metadata": {},
   "outputs": [],
   "source": [
    "# Extracting data\n",
    "patterns = []\n",
    "tags = []\n",
    "responses = {}"
   ]
  },
  {
   "cell_type": "code",
   "execution_count": null,
   "metadata": {},
   "outputs": [],
   "source": [
    "for intent in intents:\n",
    "    for pattern in intent[\"patterns\"]:\n",
    "        patterns.append(pattern)\n",
    "        tags.append(intent[\"tag\"])\n",
    "    responses[intent[\"tag\"]] = intent[\"responses\"]"
   ]
  },
  {
   "cell_type": "code",
   "execution_count": null,
   "metadata": {},
   "outputs": [],
   "source": [
    "# Text Preprocessing\n",
    "def preprocess_text(text):\n",
    "    tokens = nltk.word_tokenize(text.lower())  # Tokenize and convert to lowercase\n",
    "    tokens = [lemmatizer.lemmatize(word) for word in tokens]  # Lemmatize words\n",
    "    return ' '.join(tokens)"
   ]
  },
  {
   "cell_type": "code",
   "execution_count": null,
   "metadata": {},
   "outputs": [],
   "source": [
    "# Applying preprocessing\n",
    "processed_patterns = [preprocess_text(pattern) for pattern in patterns]"
   ]
  },
  {
   "cell_type": "code",
   "execution_count": null,
   "metadata": {},
   "outputs": [],
   "source": [
    "# Feature Extraction using TfidfVectorizer\n",
    "vectorizer = TfidfVectorizer(max_features=500, ngram_range=(1, 2))\n",
    "X = vectorizer.fit_transform(processed_patterns).toarray()\n",
    "y = np.array(tags)"
   ]
  },
  {
   "cell_type": "code",
   "execution_count": null,
   "metadata": {},
   "outputs": [],
   "source": [
    "# Splitting the data into training and testing sets\n",
    "X_train, X_test, y_train, y_test = train_test_split(X, y, test_size=0.2, random_state=42)\n",
    "\n",
    "print(\"Training data prepared successfully!\")"
   ]
  },
  {
   "cell_type": "markdown",
   "metadata": {},
   "source": [
    "# Model Building and Training."
   ]
  },
  {
   "cell_type": "code",
   "execution_count": null,
   "metadata": {},
   "outputs": [],
   "source": [
    "# Choosing the model\n",
    "model = LogisticRegression(max_iter=200)"
   ]
  },
  {
   "cell_type": "code",
   "execution_count": null,
   "metadata": {},
   "outputs": [],
   "source": [
    "# Training the model\n",
    "model.fit(X_train, y_train)"
   ]
  },
  {
   "cell_type": "code",
   "execution_count": null,
   "metadata": {},
   "outputs": [],
   "source": [
    "# Evaluating the model\n",
    "y_pred = model.predict(X_test)\n",
    "accuracy = accuracy_score(y_test, y_pred)\n",
    "print(f\"Model Accuracy: {accuracy * 100:.2f}%\")"
   ]
  },
  {
   "cell_type": "code",
   "execution_count": null,
   "metadata": {},
   "outputs": [],
   "source": [
    "# Detailed classification report\n",
    "print(\"\\nClassification Report:\")\n",
    "print(classification_report(y_test, y_pred))"
   ]
  },
  {
   "cell_type": "markdown",
   "metadata": {},
   "source": [
    "--->>output of above cell : \n",
    "\n",
    "Classification Report:\n",
    "                         precision    recall  f1-score   support\n",
    "\n",
    "         DIY_home_decor       0.50      1.00      0.67         1\n",
    "                 advice       0.00      0.00      0.00         1\n",
    "                animals       0.00      0.00      0.00         2\n",
    "              astrology       0.00      0.00      0.00         1\n",
    "       business_startup       0.00      0.00      0.00         1\n",
    "          career_advice       1.00      1.00      1.00         1\n",
    "  coding_best_practices       0.00      0.00      0.00         0\n",
    "       coding_resources       0.00      0.00      0.00         1\n",
    "          coffee_lovers       1.00      1.00      1.00         2\n",
    "           cooking_tips       0.00      0.00      0.00         1\n",
    "       creative_writing       0.00      0.00      0.00         0\n",
    "     daily_affirmations       0.00      0.00      0.00         1\n",
    "      digital_marketing       0.00      0.00      0.00         2\n",
    "           diy_projects       0.00      0.00      0.00         1\n",
    "         fashion_advice       0.00      0.00      0.00         1\n",
    "     financial_literacy       0.00      0.00      0.00         2\n",
    "     financial_planning       1.00      1.00      1.00         1\n",
    " gaming_recommendations       1.00      1.00      1.00         1\n",
    "                goodbye       1.00      1.00      1.00         1\n",
    "               greeting       0.05      1.00      0.10         1\n",
    "handwriting_improvement       0.00      0.00      0.00         2\n",
    "...\n",
    "               accuracy                           0.34        87\n",
    "              macro avg       0.29      0.31      0.27        87\n",
    "           weighted avg       0.38      0.34      0.33        87"
   ]
  }
 ],
 "metadata": {
  "kernelspec": {
   "display_name": "base",
   "language": "python",
   "name": "python3"
  },
  "language_info": {
   "codemirror_mode": {
    "name": "ipython",
    "version": 3
   },
   "file_extension": ".py",
   "mimetype": "text/x-python",
   "name": "python",
   "nbconvert_exporter": "python",
   "pygments_lexer": "ipython3",
   "version": "3.12.7"
  }
 },
 "nbformat": 4,
 "nbformat_minor": 2
}
